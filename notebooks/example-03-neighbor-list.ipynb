{
 "cells": [
  {
   "cell_type": "markdown",
   "metadata": {},
   "source": [
    "# Example 3: PyTorch Neighbor List\n",
    "\n",
    "This notebook demonstrates the use of `TorchNeighborList` for efficient neighbor finding in atomic structures.\n",
    "\n",
    "**Features:**\n",
    "- Isolated systems (molecules)\n",
    "- Periodic boundary conditions (crystals)\n",
    "- GPU acceleration (if available)\n",
    "- Type-dependent cutoffs"
   ]
  },
  {
   "cell_type": "code",
   "execution_count": 2,
   "metadata": {},
   "outputs": [],
   "source": [
    "import torch\n",
    "import numpy as np\n",
    "import aenet.io.structure\n",
    "from aenet.torch_featurize import TorchNeighborList"
   ]
  },
  {
   "cell_type": "markdown",
   "metadata": {},
   "source": [
    "## 1. Isolated System: Water Molecule\n",
    "\n",
    "The niehgbor list is integrated with `AtomicStructure` and can be used via a convenience method.\n",
    "\n",
    "Find neighbors in a water molecule (non-periodic system)."
   ]
  },
  {
   "cell_type": "code",
   "execution_count": 7,
   "metadata": {},
   "outputs": [
    {
     "name": "stdout",
     "output_type": "stream",
     "text": [
      "\n",
      " Composition        : H2\n",
      " Number of atoms    : 2\n",
      " Number of species  : 1\n",
      " Geometric center   : 0.00000000 0.00000000 -0.47116000 (Ang)\n",
      " Diameter           : 1.511 (Ang)\n",
      "\n",
      " Cartesian coordinates\n",
      "\n",
      " H         0.00000000       0.75545000      -0.47116000\n",
      " H         0.00000000      -0.75545000      -0.47116000\n",
      "\n"
     ]
    }
   ],
   "source": [
    "struc = aenet.io.structure.read('water.xyz')\n",
    "neighbors = struc.get_neighbors(i=0, cutoff=2.0, return_self=False)\n",
    "\n",
    "print(neighbors)"
   ]
  },
  {
   "cell_type": "markdown",
   "metadata": {},
   "source": [
    "Alternatively, it can be used directly on coordinates and unit cells.  Note that the results will be PyTorch tensor objects."
   ]
  },
  {
   "cell_type": "code",
   "execution_count": 9,
   "metadata": {},
   "outputs": [
    {
     "name": "stdout",
     "output_type": "stream",
     "text": [
      "tensor([1, 2])\n"
     ]
    }
   ],
   "source": [
    "from aenet.torch_featurize.neighborlist import TorchNeighborList\n",
    "import numpy as np\n",
    "\n",
    "# Create neighbor list\n",
    "nbl = TorchNeighborList(cutoff=4.0, device='cpu')\n",
    "\n",
    "# Find neighbors (accepts numpy arrays)\n",
    "positions = np.array([[0.0, 0.0, 0.0],\n",
    "                      [1.5, 0.0, 0.0],\n",
    "                      [3.0, 0.0, 0.0]])\n",
    "\n",
    "# Get neighbors of atom 0\n",
    "result = nbl.get_neighbors_of_atom(0, positions)\n",
    "\n",
    "neighbor_indices = result['indices']    # Which atoms are neighbors\n",
    "distances = result['distances']         # Distances to neighbors\n",
    "offsets = result['offsets']            # Cell offsets (None for isolated)\n",
    "print(neighbor_indices)"
   ]
  },
  {
   "cell_type": "markdown",
   "metadata": {},
   "source": [
    "This also works for periodic structures."
   ]
  },
  {
   "cell_type": "code",
   "execution_count": 14,
   "metadata": {},
   "outputs": [
    {
     "name": "stdout",
     "output_type": "stream",
     "text": [
      "tensor([[-1,  0,  0],\n",
      "        [-1,  0,  1],\n",
      "        [-1,  1,  0],\n",
      "        [ 0, -1,  0],\n",
      "        [ 0, -1,  1],\n",
      "        [ 0,  0, -1],\n",
      "        [ 0,  0,  1],\n",
      "        [ 0,  1, -1],\n",
      "        [ 0,  1,  0],\n",
      "        [ 1, -1,  0],\n",
      "        [ 1,  0, -1],\n",
      "        [ 1,  0,  0]])\n"
     ]
    }
   ],
   "source": [
    "import numpy as np\n",
    "\n",
    "a = 4.05\n",
    "cell = np.array([\n",
    "    [0.0, 0.5*a, 0.5*a],\n",
    "    [0.5*a, 0.0, 0.5*a],\n",
    "    [0.5*a, 0.5*a, 0.0]\n",
    "])\n",
    "\n",
    "positions = np.array([[0.0, 0.0, 0.0]])\n",
    "\n",
    "nbl = TorchNeighborList(cutoff=4.0)\n",
    "result = nbl.get_neighbors_of_atom(0, positions, cell=cell)\n",
    "\n",
    "# Offsets show which periodic images each neighbor belongs to\n",
    "print(result['offsets'])"
   ]
  },
  {
   "cell_type": "markdown",
   "metadata": {},
   "source": [
    "## 2. Low-level usage\n",
    "\n",
    "On the lowest level, the neighbor list returns edges and offsets."
   ]
  },
  {
   "cell_type": "code",
   "execution_count": 20,
   "metadata": {},
   "outputs": [
    {
     "name": "stdout",
     "output_type": "stream",
     "text": [
      "Number of atom pairs found: 48\n",
      "\n",
      "Number of neighbors per atom:\n",
      "tensor([12, 12, 12, 12])\n",
      "\n",
      "First 5 edge pairs:\n",
      "tensor([[0, 0, 0, 1, 1],\n",
      "        [3, 2, 2, 2, 3]])\n",
      "\n",
      "First 5 distances:\n",
      "tensor([2.8284, 2.8284, 2.8284, 2.8284, 2.8284], dtype=torch.float64)\n",
      "\n",
      "First 5 cell offsets:\n",
      "tensor([[-1, -1,  0],\n",
      "        [-1,  0, -1],\n",
      "        [-1,  0,  0],\n",
      "        [-1,  0,  0],\n",
      "        [-1,  0,  0]])\n"
     ]
    }
   ],
   "source": [
    "# FCC structure\n",
    "positions = torch.tensor([\n",
    "    [0.0, 0.0, 0.0],\n",
    "    [0.0, 0.5, 0.5],\n",
    "    [0.5, 0.0, 0.5],\n",
    "    [0.5, 0.5, 0.0]\n",
    "], dtype=torch.float64)\n",
    "\n",
    "# Cubic unit cell (4x4x4 Angstroms)\n",
    "cell = torch.tensor([\n",
    "    [4.0, 0.0, 0.0],\n",
    "    [0.0, 4.0, 0.0],\n",
    "    [0.0, 0.0, 4.0]\n",
    "], dtype=torch.float64)\n",
    "\n",
    "# Periodic in all directions\n",
    "pbc = torch.tensor([True, True, True])\n",
    "\n",
    "# Create neighbor list\n",
    "nbl_pbc = TorchNeighborList(cutoff=2.85, device='cpu')\n",
    "\n",
    "# Find neighbors with PBC\n",
    "result_pbc = nbl_pbc.get_neighbors(positions, cell=cell, pbc=pbc)\n",
    "\n",
    "print(f\"Number of atom pairs found: {result_pbc['edge_index'].shape[1]}\")\n",
    "print(f\"\\nNumber of neighbors per atom:\")\n",
    "print(result_pbc['num_neighbors'])\n",
    "print(f\"\\nFirst 5 edge pairs:\")\n",
    "print(result_pbc['edge_index'][:, :5])\n",
    "print(f\"\\nFirst 5 distances:\")\n",
    "print(result_pbc['distances'][:5])\n",
    "print(f\"\\nFirst 5 cell offsets:\")\n",
    "print(result_pbc['offsets'][:5])"
   ]
  },
  {
   "cell_type": "markdown",
   "metadata": {},
   "source": [
    "## 3. Per-Atom Neighbor Access\n",
    "\n",
    "Access neighbors for individual atoms."
   ]
  },
  {
   "cell_type": "code",
   "execution_count": 21,
   "metadata": {},
   "outputs": [
    {
     "name": "stdout",
     "output_type": "stream",
     "text": [
      "Neighbors of atom 0:\n",
      "  Neighbor indices: tensor([3, 2, 2, 3, 1, 1, 3, 1, 2, 1, 2, 3])\n",
      "  Distances: tensor([2.8284, 2.8284, 2.8284, 2.8284, 2.8284, 2.8284, 2.8284, 2.8284, 2.8284,\n",
      "        2.8284, 2.8284, 2.8284], dtype=torch.float64)\n",
      "  Cell offsets: tensor([[-1, -1,  0],\n",
      "        [-1,  0, -1],\n",
      "        [-1,  0,  0],\n",
      "        [-1,  0,  0],\n",
      "        [ 0, -1, -1],\n",
      "        [ 0, -1,  0],\n",
      "        [ 0, -1,  0],\n",
      "        [ 0,  0, -1],\n",
      "        [ 0,  0, -1],\n",
      "        [ 0,  0,  0],\n",
      "        [ 0,  0,  0],\n",
      "        [ 0,  0,  0]])\n"
     ]
    }
   ],
   "source": [
    "# Get neighbors of first atom (Cu corner)\n",
    "atom_0_neighbors = nbl_pbc.get_neighbors_of_atom(\n",
    "    0, positions, cell=cell, pbc=pbc\n",
    ")\n",
    "\n",
    "print(\"Neighbors of atom 0:\")\n",
    "print(f\"  Neighbor indices: {atom_0_neighbors['indices']}\")\n",
    "print(f\"  Distances: {atom_0_neighbors['distances']}\")\n",
    "print(f\"  Cell offsets: {atom_0_neighbors['offsets']}\")"
   ]
  },
  {
   "cell_type": "markdown",
   "metadata": {},
   "source": [
    "## 4. GPU Acceleration (Optional)\n",
    "\n",
    "If CUDA is available, neighbor finding can be accelerated on GPU."
   ]
  },
  {
   "cell_type": "code",
   "execution_count": 22,
   "metadata": {},
   "outputs": [
    {
     "name": "stdout",
     "output_type": "stream",
     "text": [
      "CUDA not available, skipping GPU example\n"
     ]
    }
   ],
   "source": [
    "# Check if CUDA is available\n",
    "if torch.cuda.is_available():\n",
    "    print(\"CUDA is available!\")\n",
    "    \n",
    "    # Create neighbor list on GPU\n",
    "    nbl_gpu = TorchNeighborList(cutoff=3.5, device='cuda')\n",
    "    \n",
    "    # Move data to GPU (or it will be done automatically)\n",
    "    positions_gpu = positions.cuda()\n",
    "    cell_gpu = cell.cuda()\n",
    "    pbc_gpu = pbc.cuda()\n",
    "    \n",
    "    # Find neighbors on GPU\n",
    "    result_gpu = nbl_gpu.get_neighbors(\n",
    "        positions_gpu, cell=cell_gpu, pbc=pbc_gpu\n",
    "    )\n",
    "    \n",
    "    print(f\"Found {result_gpu['edge_index'].shape[1]} pairs on GPU\")\n",
    "    print(f\"Result tensors are on device: {result_gpu['distances'].device}\")\n",
    "else:\n",
    "    print(\"CUDA not available, skipping GPU example\")"
   ]
  },
  {
   "cell_type": "markdown",
   "metadata": {},
   "source": [
    "## 5. Type-Dependent Cutoffs\n",
    "\n",
    "Use different cutoffs for different atom type pairs."
   ]
  },
  {
   "cell_type": "code",
   "execution_count": 24,
   "metadata": {},
   "outputs": [
    {
     "name": "stdout",
     "output_type": "stream",
     "text": [
      "Cu atom neighbors (with type-specific cutoffs):\n",
      "  Neighbor indices: tensor([3, 2, 2, 3, 1, 1, 3, 1, 2, 1, 2, 3])\n",
      "  Neighbor types: tensor([1, 1, 1, 1, 0, 0, 1, 0, 1, 0, 1, 1])\n",
      "  Distances: tensor([2.8284, 2.8284, 2.8284, 2.8284, 2.8284, 2.8284, 2.8284, 2.8284, 2.8284,\n",
      "        2.8284, 2.8284, 2.8284], dtype=torch.float64)\n"
     ]
    }
   ],
   "source": [
    "# Atom types (0 = Cu, 1 = Au)\n",
    "atom_types = torch.tensor([0, 0, 1, 1], dtype=torch.long)\n",
    "\n",
    "# Define type-specific cutoffs\n",
    "# (0,0) = Cu-Cu, (0,1) = Cu-Au, (1,1) = Au-Au\n",
    "cutoff_dict = {\n",
    "    (0, 0): 2.85,  # Cu-Cu pairs: 2.8 Angstroms\n",
    "    (0, 1): 4.05,  # Cu-Au pairs: 3.0 Angstroms\n",
    "    (1, 1): 2.85,  # Au-Au pairs: 3.2 Angstroms\n",
    "}\n",
    "\n",
    "# Create neighbor list with type-dependent cutoffs\n",
    "nbl_typed = TorchNeighborList(\n",
    "    cutoff=5.0,  # Maximum cutoff\n",
    "    atom_types=atom_types,\n",
    "    cutoff_dict=cutoff_dict,\n",
    "    device='cpu'\n",
    ")\n",
    "\n",
    "# Get neighbors for atom 0 (Cu) with type filtering\n",
    "cu_neighbors = nbl_typed.get_neighbors_of_atom(\n",
    "    0, positions, cell=cell, pbc=pbc\n",
    ")\n",
    "\n",
    "print(\"Cu atom neighbors (with type-specific cutoffs):\")\n",
    "print(f\"  Neighbor indices: {cu_neighbors['indices']}\")\n",
    "print(f\"  Neighbor types: {atom_types[cu_neighbors['indices']]}\")\n",
    "print(f\"  Distances: {cu_neighbors['distances']}\")"
   ]
  }
 ],
 "metadata": {
  "kernelspec": {
   "display_name": "Python 3 (ipykernel)",
   "language": "python",
   "name": "python3"
  },
  "language_info": {
   "codemirror_mode": {
    "name": "ipython",
    "version": 3
   },
   "file_extension": ".py",
   "mimetype": "text/x-python",
   "name": "python",
   "nbconvert_exporter": "python",
   "pygments_lexer": "ipython3",
   "version": "3.11.14"
  }
 },
 "nbformat": 4,
 "nbformat_minor": 4
}
