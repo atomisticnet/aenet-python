{
 "cells": [
  {
   "cell_type": "markdown",
   "metadata": {},
   "source": [
    "# Example 03: PyTorch Neighbor List\n",
    "\n",
    "This notebook demonstrates the use of `TorchNeighborList` for efficient neighbor finding in atomic structures.\n",
    "\n",
    "**Features:**\n",
    "- Isolated systems (molecules)\n",
    "- Periodic boundary conditions (crystals)\n",
    "- GPU acceleration (if available)\n",
    "- Type-dependent cutoffs"
   ]
  },
  {
   "cell_type": "code",
   "execution_count": null,
   "metadata": {},
   "outputs": [],
   "source": [
    "import torch\n",
    "import numpy as np\n",
    "from aenet.torch_featurize import TorchNeighborList"
   ]
  },
  {
   "cell_type": "markdown",
   "metadata": {},
   "source": [
    "## 1. Isolated System: Water Molecule\n",
    "\n",
    "Find neighbors in a water molecule (non-periodic system)."
   ]
  },
  {
   "cell_type": "code",
   "execution_count": null,
   "metadata": {},
   "outputs": [],
   "source": [
    "# Water molecule positions (Angstroms)\n",
    "positions = torch.tensor([\n",
    "    [0.000, 0.000,  0.118],  # O\n",
    "    [0.000, 0.755, -0.471],  # H\n",
    "    [0.000, -0.755, -0.471]  # H\n",
    "], dtype=torch.float64)\n",
    "\n",
    "# Create neighbor list with 2.0 Angstrom cutoff\n",
    "nbl = TorchNeighborList(cutoff=2.0, device='cpu')\n",
    "\n",
    "# Find neighbors\n",
    "result = nbl.get_neighbors(positions)\n",
    "\n",
    "print(f\"Number of atom pairs found: {result['edge_index'].shape[1]}\")\n",
    "print(f\"\\nEdge index (source, target pairs):\")\n",
    "print(result['edge_index'])\n",
    "print(f\"\\nDistances (Angstroms):\")\n",
    "print(result['distances'])\n",
    "print(f\"\\nNumber of neighbors per atom:\")\n",
    "print(result['num_neighbors'])"
   ]
  },
  {
   "cell_type": "markdown",
   "metadata": {},
   "source": [
    "## 2. Periodic System: Simple Cubic Crystal\n",
    "\n",
    "Find neighbors in a periodic crystal structure."
   ]
  },
  {
   "cell_type": "code",
   "execution_count": null,
   "metadata": {},
   "outputs": [],
   "source": [
    "# Simple cubic structure (AuCu example)\n",
    "positions = torch.tensor([\n",
    "    [0.0, 0.0, 0.0],  # Cu corner\n",
    "    [0.0, 2.0, 2.0],  # Cu face center\n",
    "    [2.0, 0.0, 2.0],  # Au face center\n",
    "    [2.0, 2.0, 0.0]   # Au face center\n",
    "], dtype=torch.float64)\n",
    "\n",
    "# Cubic unit cell (4x4x4 Angstroms)\n",
    "cell = torch.tensor([\n",
    "    [4.0, 0.0, 0.0],\n",
    "    [0.0, 4.0, 0.0],\n",
    "    [0.0, 0.0, 4.0]\n",
    "], dtype=torch.float64)\n",
    "\n",
    "# Periodic in all directions\n",
    "pbc = torch.tensor([True, True, True])\n",
    "\n",
    "# Create neighbor list\n",
    "nbl_pbc = TorchNeighborList(cutoff=3.5, device='cpu')\n",
    "\n",
    "# Find neighbors with PBC\n",
    "result_pbc = nbl_pbc.get_neighbors(positions, cell=cell, pbc=pbc)\n",
    "\n",
    "print(f\"Number of atom pairs found: {result_pbc['edge_index'].shape[1]}\")\n",
    "print(f\"\\nNumber of neighbors per atom:\")\n",
    "print(result_pbc['num_neighbors'])\n",
    "print(f\"\\nFirst 5 edge pairs:\")\n",
    "print(result_pbc['edge_index'][:, :5])\n",
    "print(f\"\\nFirst 5 distances:\")\n",
    "print(result_pbc['distances'][:5])\n",
    "print(f\"\\nFirst 5 cell offsets:\")\n",
    "print(result_pbc['offsets'][:5])"
   ]
  },
  {
   "cell_type": "markdown",
   "metadata": {},
   "source": [
    "## 3. Per-Atom Neighbor Access\n",
    "\n",
    "Access neighbors for individual atoms."
   ]
  },
  {
   "cell_type": "code",
   "execution_count": null,
   "metadata": {},
   "outputs": [],
   "source": [
    "# Get neighbors of first atom (Cu corner)\n",
    "atom_0_neighbors = nbl_pbc.get_neighbors_of_atom(\n",
    "    0, positions, cell=cell, pbc=pbc\n",
    ")\n",
    "\n",
    "print(\"Neighbors of atom 0:\")\n",
    "print(f\"  Neighbor indices: {atom_0_neighbors['indices']}\")\n",
    "print(f\"  Distances: {atom_0_neighbors['distances']}\")\n",
    "print(f\"  Cell offsets: {atom_0_neighbors['offsets']}\")"
   ]
  },
  {
   "cell_type": "markdown",
   "metadata": {},
   "source": [
    "## 4. GPU Acceleration (Optional)\n",
    "\n",
    "If CUDA is available, neighbor finding can be accelerated on GPU."
   ]
  },
  {
   "cell_type": "code",
   "execution_count": null,
   "metadata": {},
   "outputs": [],
   "source": [
    "# Check if CUDA is available\n",
    "if torch.cuda.is_available():\n",
    "    print(\"CUDA is available!\")\n",
    "    \n",
    "    # Create neighbor list on GPU\n",
    "    nbl_gpu = TorchNeighborList(cutoff=3.5, device='cuda')\n",
    "    \n",
    "    # Move data to GPU (or it will be done automatically)\n",
    "    positions_gpu = positions.cuda()\n",
    "    cell_gpu = cell.cuda()\n",
    "    pbc_gpu = pbc.cuda()\n",
    "    \n",
    "    # Find neighbors on GPU\n",
    "    result_gpu = nbl_gpu.get_neighbors(\n",
    "        positions_gpu, cell=cell_gpu, pbc=pbc_gpu\n",
    "    )\n",
    "    \n",
    "    print(f\"Found {result_gpu['edge_index'].shape[1]} pairs on GPU\")\n",
    "    print(f\"Result tensors are on device: {result_gpu['distances'].device}\")\n",
    "else:\n",
    "    print(\"CUDA not available, skipping GPU example\")"
   ]
  },
  {
   "cell_type": "markdown",
   "metadata": {},
   "source": [
    "## 5. Type-Dependent Cutoffs\n",
    "\n",
    "Use different cutoffs for different atom type pairs."
   ]
  },
  {
   "cell_type": "code",
   "execution_count": null,
   "metadata": {},
   "outputs": [],
   "source": [
    "# Atom types (0 = Cu, 1 = Au)\n",
    "atom_types = torch.tensor([0, 0, 1, 1], dtype=torch.long)\n",
    "\n",
    "# Define type-specific cutoffs\n",
    "# (0,0) = Cu-Cu, (0,1) = Cu-Au, (1,1) = Au-Au\n",
    "cutoff_dict = {\n",
    "    (0, 0): 2.8,  # Cu-Cu pairs: 2.8 Angstroms\n",
    "    (0, 1): 3.0,  # Cu-Au pairs: 3.0 Angstroms\n",
    "    (1, 1): 3.2,  # Au-Au pairs: 3.2 Angstroms\n",
    "}\n",
    "\n",
    "# Create neighbor list with type-dependent cutoffs\n",
    "nbl_typed = TorchNeighborList(\n",
    "    cutoff=3.5,  # Maximum cutoff\n",
    "    atom_types=atom_types,\n",
    "    cutoff_dict=cutoff_dict,\n",
    "    device='cpu'\n",
    ")\n",
    "\n",
    "# Get neighbors for atom 0 (Cu) with type filtering\n",
    "cu_neighbors = nbl_typed.get_neighbors_of_atom(\n",
    "    0, positions, cell=cell, pbc=pbc\n",
    ")\n",
    "\n",
    "print(\"Cu atom neighbors (with type-specific cutoffs):\")\n",
    "print(f\"  Neighbor indices: {cu_neighbors['indices']}\")\n",
    "print(f\"  Neighbor types: {atom_types[cu_neighbors['indices']]}\")\n",
    "print(f\"  Distances: {cu_neighbors['distances']}\")"
   ]
  },
  {
   "cell_type": "markdown",
   "metadata": {},
   "source": [
    "## Summary\n",
    "\n",
    "This notebook demonstrated:\n",
    "- Finding neighbors in isolated systems (molecules)\n",
    "- Finding neighbors with periodic boundary conditions (crystals)\n",
    "- Per-atom neighbor access\n",
    "- GPU acceleration\n",
    "- Type-dependent cutoffs\n",
    "\n",
    "The `TorchNeighborList` class provides efficient neighbor finding for both CPU and GPU, supporting various boundary conditions and filtering options."
   ]
  }
 ],
 "metadata": {
  "kernelspec": {
   "display_name": "Python 3 (ipykernel)",
   "language": "python",
   "name": "python3"
  },
  "language_info": {
   "codemirror_mode": {
    "name": "ipython",
    "version": 3
   },
   "file_extension": ".py",
   "mimetype": "text/x-python",
   "name": "python",
   "nbconvert_exporter": "python",
   "pygments_lexer": "ipython3",
   "version": "3.11.14"
  }
 },
 "nbformat": 4,
 "nbformat_minor": 4
}
