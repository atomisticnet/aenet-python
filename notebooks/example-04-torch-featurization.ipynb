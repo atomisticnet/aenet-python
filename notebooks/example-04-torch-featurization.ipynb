{
 "cells": [
  {
   "cell_type": "markdown",
   "metadata": {},
   "source": [
    "# Example 04: PyTorch Featurization\n",
    "\n",
    "This notebook demonstrates how to featurize larger data sets efficiently with the AUC method."
   ]
  },
  {
   "cell_type": "code",
   "execution_count": 1,
   "metadata": {},
   "outputs": [],
   "source": [
    "import torch\n",
    "import numpy as np\n",
    "from aenet.torch_featurize import ChebyshevDescriptor, BatchedFeaturizer"
   ]
  },
  {
   "cell_type": "markdown",
   "metadata": {},
   "source": [
    "## 1. Basic Featurization: Water Molecule\n",
    "\n",
    "Featurize a simple water molecule."
   ]
  },
  {
   "cell_type": "code",
   "execution_count": 6,
   "metadata": {},
   "outputs": [
    {
     "name": "stdout",
     "output_type": "stream",
     "text": [
      "Feature shape: (3, 30)\n",
      "Number of features per atom: 30\n",
      "\n",
      "Oxygen features (first 10):\n",
      "[ 1.73027217 -0.90184124 -0.79016849  1.72553423 -1.00857502 -0.67416837\n",
      "  1.71134635 -1.10978532 -0.55447614  1.68778623]\n",
      "\n",
      "Hydrogen features (first 10):\n",
      "[ 1.55284387 -0.61940903 -1.00023271  1.32777827 -0.12699451 -0.98696891\n",
      "  0.79682369  0.12382831 -0.55096186  0.2992968 ]\n"
     ]
    }
   ],
   "source": [
    "# Create descriptor\n",
    "descriptor = ChebyshevDescriptor(\n",
    "    species=['O', 'H'],\n",
    "    rad_order=10,      # Radial polynomial order\n",
    "    rad_cutoff=4.0,    # Radial cutoff (Angstroms)\n",
    "    ang_order=3,       # Angular polynomial order\n",
    "    ang_cutoff=1.5     # Angular cutoff (Angstroms)\n",
    ")\n",
    "\n",
    "# Water molecule positions\n",
    "positions = np.array([\n",
    "    [0.000, 0.000,  0.118],  # O\n",
    "    [0.000, 0.755, -0.471],  # H\n",
    "    [0.000, -0.755, -0.471]  # H\n",
    "])\n",
    "species = ['O', 'H', 'H']\n",
    "\n",
    "# Featurize\n",
    "features = descriptor.featurize_structure(positions, species)\n",
    "\n",
    "print(f\"Feature shape: {features.shape}\")\n",
    "print(f\"Number of features per atom: {descriptor.get_n_features()}\")\n",
    "print(f\"\\nOxygen features (first 10):\")\n",
    "print(features[0, :10])\n",
    "print(f\"\\nHydrogen features (first 10):\")\n",
    "print(features[1, :10])"
   ]
  },
  {
   "cell_type": "markdown",
   "metadata": {},
   "source": [
    "## 2. Understanding Feature Dimensions\n",
    "\n",
    "Features are organized as: [radial_unwt, angular_unwt, radial_wt, angular_wt]"
   ]
  },
  {
   "cell_type": "code",
   "execution_count": 3,
   "metadata": {},
   "outputs": [
    {
     "name": "stdout",
     "output_type": "stream",
     "text": [
      "Feature organization:\n",
      "  Radial unweighted:  indices 0-10   (11 features)\n",
      "  Angular unweighted: indices 11-14  (4 features)\n",
      "  Radial weighted:    indices 15-25  (11 features)\n",
      "  Angular weighted:   indices 26-29  (4 features)\n"
     ]
    }
   ],
   "source": [
    "# For 2 species with rad_order=10, ang_order=3:\n",
    "# Radial features: 2 × (10+1) = 22\n",
    "# Angular features: 2 × (3+1) = 8\n",
    "# Total: 30 features per atom\n",
    "\n",
    "rad_unwt = features[:, :11]      # Radial unweighted\n",
    "ang_unwt = features[:, 11:15]    # Angular unweighted\n",
    "rad_wt = features[:, 15:26]      # Radial weighted\n",
    "ang_wt = features[:, 26:30]      # Angular weighted\n",
    "\n",
    "print(\"Feature organization:\")\n",
    "print(f\"  Radial unweighted:  indices 0-10   (11 features)\")\n",
    "print(f\"  Angular unweighted: indices 11-14  (4 features)\")\n",
    "print(f\"  Radial weighted:    indices 15-25  (11 features)\")\n",
    "print(f\"  Angular weighted:   indices 26-29  (4 features)\")"
   ]
  },
  {
   "cell_type": "markdown",
   "metadata": {},
   "source": [
    "## 3. Periodic System: Crystal Structure\n",
    "\n",
    "Featurize a crystal with periodic boundary conditions."
   ]
  },
  {
   "cell_type": "code",
   "execution_count": 5,
   "metadata": {},
   "outputs": [
    {
     "name": "stdout",
     "output_type": "stream",
     "text": [
      "Crystal feature shape: (4, 30)\n",
      "Cu atom 0 features (first 10): [ 2.70787659 -1.61372922 -0.78450829  2.54876737 -2.25331137  0.1369048\n",
      "  2.09013755 -2.62809369  1.0422294   2.44419854]\n",
      "Au atom 2 features (first 10): [ 2.70787659 -1.61372922 -0.78450829  2.54876737 -2.25331137  0.1369048\n",
      "  2.09013755 -2.62809369  1.0422294   2.44419854]\n"
     ]
    }
   ],
   "source": [
    "# AuCu crystal structure\n",
    "positions_pbc = np.array([\n",
    "    [0.0, 0.0, 0.0],\n",
    "    [0.0, 0.5, 0.5],\n",
    "    [0.5, 0.0, 0.5],\n",
    "    [0.5, 0.5, 0.0]\n",
    "])\n",
    "species_pbc = ['Cu', 'Cu', 'Au', 'Au']\n",
    "\n",
    "# Unit cell\n",
    "cell = np.array([\n",
    "    [4.0, 0.0, 0.0],\n",
    "    [0.0, 4.0, 0.0],\n",
    "    [0.0, 0.0, 4.0]\n",
    "])\n",
    "pbc = np.array([True, True, True])\n",
    "\n",
    "# Create descriptor for Au-Cu system\n",
    "descriptor_aucu = ChebyshevDescriptor(\n",
    "    species=['Au', 'Cu'],\n",
    "    rad_order=8,\n",
    "    rad_cutoff=3.5,\n",
    "    ang_order=5,\n",
    "    ang_cutoff=3.5\n",
    ")\n",
    "\n",
    "# Featurize with PBC\n",
    "features_pbc = descriptor_aucu.featurize_structure(\n",
    "    positions_pbc, species_pbc, cell=cell, pbc=pbc\n",
    ")\n",
    "\n",
    "print(f\"Crystal feature shape: {features_pbc.shape}\")\n",
    "print(f\"Cu atom 0 features (first 10): {features_pbc[0, :10]}\")\n",
    "print(f\"Au atom 2 features (first 10): {features_pbc[2, :10]}\")"
   ]
  },
  {
   "cell_type": "markdown",
   "metadata": {},
   "source": [
    "## 4. Batch Processing\n",
    "\n",
    "Efficiently featurize multiple structures."
   ]
  },
  {
   "cell_type": "code",
   "execution_count": 7,
   "metadata": {},
   "outputs": [
    {
     "name": "stdout",
     "output_type": "stream",
     "text": [
      "Batch features shape: torch.Size([9, 30])\n",
      "Batch indices shape: torch.Size([9])\n",
      "Structure 0 atoms: 3\n",
      "Structure 1 atoms: 3\n",
      "Structure 2 atoms: 3\n"
     ]
    }
   ],
   "source": [
    "# Create batch featurizer\n",
    "batch_fzer = BatchedFeaturizer(descriptor)\n",
    "\n",
    "# Multiple water molecules with slight perturbations\n",
    "batch_positions = [\n",
    "    torch.tensor(positions, dtype=torch.float64),\n",
    "    torch.tensor(positions + 0.1 * np.random.randn(*positions.shape),\n",
    "                 dtype=torch.float64),\n",
    "    torch.tensor(positions + 0.1 * np.random.randn(*positions.shape),\n",
    "                 dtype=torch.float64),\n",
    "]\n",
    "batch_species = [species, species, species]\n",
    "\n",
    "# Featurize batch\n",
    "features_batch, batch_indices = batch_fzer(\n",
    "    batch_positions, batch_species\n",
    ")\n",
    "\n",
    "print(f\"Batch features shape: {features_batch.shape}\")\n",
    "print(f\"Batch indices shape: {batch_indices.shape}\")\n",
    "print(f\"Structure 0 atoms: {(batch_indices == 0).sum().item()}\")\n",
    "print(f\"Structure 1 atoms: {(batch_indices == 1).sum().item()}\")\n",
    "print(f\"Structure 2 atoms: {(batch_indices == 2).sum().item()}\")"
   ]
  },
  {
   "cell_type": "markdown",
   "metadata": {},
   "source": [
    "## 5. GPU Acceleration\n",
    "\n",
    "Use GPU for faster featurization (if available)."
   ]
  },
  {
   "cell_type": "code",
   "execution_count": 8,
   "metadata": {},
   "outputs": [
    {
     "name": "stdout",
     "output_type": "stream",
     "text": [
      "CUDA not available - using CPU\n"
     ]
    }
   ],
   "source": [
    "if torch.cuda.is_available():\n",
    "    print(\"CUDA available - creating GPU descriptor\")\n",
    "    \n",
    "    # Create descriptor on GPU\n",
    "    descriptor_gpu = ChebyshevDescriptor(\n",
    "        species=['O', 'H'],\n",
    "        rad_order=10,\n",
    "        rad_cutoff=4.0,\n",
    "        ang_order=3,\n",
    "        ang_cutoff=1.5,\n",
    "        device='cuda'\n",
    "    )\n",
    "    \n",
    "    # Featurize on GPU (input automatically moved)\n",
    "    features_gpu = descriptor_gpu.featurize_structure(positions, species)\n",
    "    \n",
    "    print(f\"GPU features shape: {features_gpu.shape}\")\n",
    "    print(f\"Features computed on GPU\")\n",
    "else:\n",
    "    print(\"CUDA not available - using CPU\")"
   ]
  },
  {
   "cell_type": "markdown",
   "metadata": {},
   "source": [
    "## 6. Gradient Computation\n",
    "\n",
    "Compute feature gradients for force calculations."
   ]
  },
  {
   "cell_type": "code",
   "execution_count": 9,
   "metadata": {},
   "outputs": [
    {
     "name": "stdout",
     "output_type": "stream",
     "text": [
      "Position gradients:\n",
      "Shape: torch.Size([3, 3])\n",
      "Oxygen gradient: tensor([0.0000, 0.0000, 5.9964], dtype=torch.float64)\n"
     ]
    }
   ],
   "source": [
    "# Enable gradient tracking\n",
    "positions_torch = torch.tensor(\n",
    "    positions, dtype=torch.float64, requires_grad=True\n",
    ")\n",
    "\n",
    "# Compute features with gradients\n",
    "features_torch = descriptor(positions_torch, species)\n",
    "\n",
    "# Compute gradient via backpropagation\n",
    "loss = features_torch.sum()\n",
    "loss.backward()\n",
    "\n",
    "print(\"Position gradients:\")\n",
    "print(f\"Shape: {positions_torch.grad.shape}\")\n",
    "print(f\"Oxygen gradient: {positions_torch.grad[0]}\")"
   ]
  }
 ],
 "metadata": {
  "kernelspec": {
   "display_name": "Python 3 (ipykernel)",
   "language": "python",
   "name": "python3"
  },
  "language_info": {
   "codemirror_mode": {
    "name": "ipython",
    "version": 3
   },
   "file_extension": ".py",
   "mimetype": "text/x-python",
   "name": "python",
   "nbconvert_exporter": "python",
   "pygments_lexer": "ipython3",
   "version": "3.11.14"
  }
 },
 "nbformat": 4,
 "nbformat_minor": 4
}
