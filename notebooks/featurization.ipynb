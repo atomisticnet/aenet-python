{
 "cells": [
  {
   "cell_type": "code",
   "execution_count": 1,
   "metadata": {},
   "outputs": [],
   "source": [
    "import io\n",
    "\n",
    "from aenet.featurize import AenetAUCFeaturizer\n",
    "from aenet.io.structure import read_safely"
   ]
  },
  {
   "cell_type": "code",
   "execution_count": 2,
   "metadata": {},
   "outputs": [
    {
     "name": "stdout",
     "output_type": "stream",
     "text": [
      "DESCR\n",
      "  Featurization set-up file for species O using the AUC method [1].\n",
      "  This file was generated using the aenet Python package.\n",
      "  Please cite the following reference when publishing results\n",
      "  based on this input file.\n",
      "  [1] N. Artrith, A. Urban and Ceder, Phys. Rev. B 96, 2017, 014112, \n",
      "      https://doi.org/10.1103/PhysRevB.96.014112\n",
      "END DESCR\n",
      "\n",
      "ATOM O\n",
      "\n",
      "ENV 3\n",
      "C\n",
      "O\n",
      "H\n",
      "\n",
      "RMIN 0.55\n",
      "\n",
      "BASIS type=Chebyshev\n",
      "radial_Rc = 5.0  radial_N = 5 angular_Rc = 3.0  angular_N = 3\n"
     ]
    }
   ],
   "source": [
    "featurizer = AenetAUCFeaturizer(\n",
    "    ['C', 'O', 'H'], rad_order=5, rad_cutoff=5.0, ang_order=3, ang_cutoff=3.0)\n",
    "stp_files = featurizer.setup_file_strings()\n",
    "print(stp_files['O'])"
   ]
  },
  {
   "cell_type": "code",
   "execution_count": 3,
   "metadata": {},
   "outputs": [
    {
     "name": "stdout",
     "output_type": "stream",
     "text": [
      "OUTPUT data.train\n",
      "\n",
      "TYPES\n",
      "3\n",
      "C   0.0\n",
      "O   0.0\n",
      "H   0.0\n",
      "\n",
      "SETUPS\n",
      "C   C.stp\n",
      "O   O.stp\n",
      "H   H.stp\n",
      "\n",
      "FILES\n",
      "2\n",
      "../../LICENSE\n",
      "../../README.md\n",
      "\n"
     ]
    }
   ],
   "source": [
    "xsf_files = ['../LICENSE', '../README.md']\n",
    "generate_in = featurizer.generate_input_string(xsf_files, workdir='./run')\n",
    "print(generate_in)"
   ]
  },
  {
   "cell_type": "code",
   "execution_count": 5,
   "metadata": {},
   "outputs": [
    {
     "ename": "AssertionError",
     "evalue": "File already exists: ./run/generate.in",
     "output_type": "error",
     "traceback": [
      "\u001b[0;31m---------------------------------------------------------------------------\u001b[0m",
      "\u001b[0;31mAssertionError\u001b[0m                            Traceback (most recent call last)",
      "\u001b[0;32m<ipython-input-5-067127adcf85>\u001b[0m in \u001b[0;36m<module>\u001b[0;34m\u001b[0m\n\u001b[0;32m----> 1\u001b[0;31m \u001b[0mfeaturizer\u001b[0m\u001b[0;34m.\u001b[0m\u001b[0mwrite_generate_input_files\u001b[0m\u001b[0;34m(\u001b[0m\u001b[0mxsf_files\u001b[0m\u001b[0;34m,\u001b[0m \u001b[0mworkdir\u001b[0m\u001b[0;34m=\u001b[0m\u001b[0;34m'./run'\u001b[0m\u001b[0;34m)\u001b[0m\u001b[0;34m\u001b[0m\u001b[0;34m\u001b[0m\u001b[0m\n\u001b[0m",
      "\u001b[0;32m~/code/aenet/aenet-python/aenet/featurize.py\u001b[0m in \u001b[0;36mwrite_generate_input_files\u001b[0;34m(self, xsf_files, filename, workdir, **kwargs)\u001b[0m\n\u001b[1;32m    130\u001b[0m         \u001b[0moutfile\u001b[0m \u001b[0;34m=\u001b[0m \u001b[0mos\u001b[0m\u001b[0;34m.\u001b[0m\u001b[0mpath\u001b[0m\u001b[0;34m.\u001b[0m\u001b[0mjoin\u001b[0m\u001b[0;34m(\u001b[0m\u001b[0mworkdir\u001b[0m\u001b[0;34m,\u001b[0m \u001b[0mfilename\u001b[0m\u001b[0;34m)\u001b[0m\u001b[0;34m\u001b[0m\u001b[0;34m\u001b[0m\u001b[0m\n\u001b[1;32m    131\u001b[0m         \u001b[0;32mif\u001b[0m \u001b[0mos\u001b[0m\u001b[0;34m.\u001b[0m\u001b[0mpath\u001b[0m\u001b[0;34m.\u001b[0m\u001b[0mexists\u001b[0m\u001b[0;34m(\u001b[0m\u001b[0moutfile\u001b[0m\u001b[0;34m)\u001b[0m\u001b[0;34m:\u001b[0m\u001b[0;34m\u001b[0m\u001b[0;34m\u001b[0m\u001b[0m\n\u001b[0;32m--> 132\u001b[0;31m             \u001b[0;32mraise\u001b[0m \u001b[0mAssertionError\u001b[0m\u001b[0;34m(\u001b[0m\u001b[0;34m'File already exists: {}'\u001b[0m\u001b[0;34m.\u001b[0m\u001b[0mformat\u001b[0m\u001b[0;34m(\u001b[0m\u001b[0moutfile\u001b[0m\u001b[0;34m)\u001b[0m\u001b[0;34m)\u001b[0m\u001b[0;34m\u001b[0m\u001b[0;34m\u001b[0m\u001b[0m\n\u001b[0m\u001b[1;32m    133\u001b[0m \u001b[0;34m\u001b[0m\u001b[0m\n\u001b[1;32m    134\u001b[0m         \u001b[0;32mwith\u001b[0m \u001b[0mopen\u001b[0m\u001b[0;34m(\u001b[0m\u001b[0moutfile\u001b[0m\u001b[0;34m,\u001b[0m \u001b[0;34m'w'\u001b[0m\u001b[0;34m)\u001b[0m \u001b[0;32mas\u001b[0m \u001b[0mfp\u001b[0m\u001b[0;34m:\u001b[0m\u001b[0;34m\u001b[0m\u001b[0;34m\u001b[0m\u001b[0m\n",
      "\u001b[0;31mAssertionError\u001b[0m: File already exists: ./run/generate.in"
     ]
    }
   ],
   "source": [
    "featurizer.write_generate_input_files(xsf_files, workdir='./run')"
   ]
  }
 ],
 "metadata": {
  "kernelspec": {
   "display_name": "Python 3.8.8 ('base')",
   "language": "python",
   "name": "python3"
  },
  "language_info": {
   "codemirror_mode": {
    "name": "ipython",
    "version": 3
   },
   "file_extension": ".py",
   "mimetype": "text/x-python",
   "name": "python",
   "nbconvert_exporter": "python",
   "pygments_lexer": "ipython3",
   "version": "3.8.8"
  },
  "orig_nbformat": 4,
  "vscode": {
   "interpreter": {
    "hash": "fa97f1dcb59bb154421c5e93beb40b4fe97d9867222f7b6218b1f213b62f9917"
   }
  }
 },
 "nbformat": 4,
 "nbformat_minor": 2
}
