{
 "cells": [
  {
   "cell_type": "markdown",
   "metadata": {},
   "source": [
    "# Example 04: PyTorch Featurization\n",
    "\n",
    "This notebook demonstrates PyTorch-based atomic structure featurization using Chebyshev descriptors.\n",
    "\n",
    "**Features:**\n",
    "- Pure Python/PyTorch implementation (no Fortran)\n",
    "- GPU acceleration support\n",
    "- Automatic differentiation for gradients\n",
    "- Validated against Fortran implementation"
   ]
  },
  {
   "cell_type": "code",
   "execution_count": null,
   "metadata": {},
   "outputs": [],
   "source": [
    "import torch\n",
    "import numpy as np\n",
    "from aenet.torch_featurize import ChebyshevDescriptor, BatchedFeaturizer"
   ]
  },
  {
   "cell_type": "markdown",
   "metadata": {},
   "source": [
    "## 1. Basic Featurization: Water Molecule\n",
    "\n",
    "Featurize a simple water molecule."
   ]
  },
  {
   "cell_type": "code",
   "execution_count": null,
   "metadata": {},
   "outputs": [],
   "source": [
    "# Create descriptor\n",
    "descriptor = ChebyshevDescriptor(\n",
    "    species=['O', 'H'],\n",
    "    rad_order=10,      # Radial polynomial order\n",
    "    rad_cutoff=4.0,    # Radial cutoff (Angstroms)\n",
    "    ang_order=3,       # Angular polynomial order\n",
    "    ang_cutoff=1.5     # Angular cutoff (Angstroms)\n",
    ")\n",
    "\n",
    "# Water molecule positions\n",
    "positions = np.array([\n",
    "    [0.000, 0.000,  0.118],  # O\n",
    "    [0.000, 0.755, -0.471],  # H\n",
    "    [0.000, -0.755, -0.471]  # H\n",
    "])\n",
    "species = ['O', 'H', 'H']\n",
    "\n",
    "# Featurize\n",
    "features = descriptor.featurize_structure(positions, species)\n",
    "\n",
    "print(f\"Feature shape: {features.shape}\")\n",
    "print(f\"Number of features per atom: {descriptor.get_n_features()}\")\n",
    "print(f\"\\nOxygen features (first 10):\")\n",
    "print(features[0, :10])\n",
    "print(f\"\\nHydrogen features (first 10):\")\n",
    "print(features[1, :10])"
   ]
  },
  {
   "cell_type": "markdown",
   "metadata": {},
   "source": [
    "## 2. Understanding Feature Dimensions\n",
    "\n",
    "Features are organized as: [radial_unwt, angular_unwt, radial_wt, angular_wt]"
   ]
  },
  {
   "cell_type": "code",
   "execution_count": null,
   "metadata": {},
   "outputs": [],
   "source": [
    "# For 2 species with rad_order=10, ang_order=3:\n",
    "# Radial features: 2 × (10+1) = 22\n",
    "# Angular features: 2 × (3+1) = 8\n",
    "# Total: 30 features per atom\n",
    "\n",
    "rad_unwt = features[:, :11]      # Radial unweighted\n",
    "ang_unwt = features[:, 11:15]    # Angular unweighted\n",
    "rad_wt = features[:, 15:26]      # Radial weighted\n",
    "ang_wt = features[:, 26:30]      # Angular weighted\n",
    "\n",
    "print(\"Feature organization:\")\n",
    "print(f\"  Radial unweighted:  indices 0-10   (11 features)\")\n",
    "print(f\"  Angular unweighted: indices 11-14  (4 features)\")\n",
    "print(f\"  Radial weighted:    indices 15-25  (11 features)\")\n",
    "print(f\"  Angular weighted:   indices 26-29  (4 features)\")"
   ]
  },
  {
   "cell_type": "markdown",
   "metadata": {},
   "source": [
    "## 3. Periodic System: Crystal Structure\n",
    "\n",
    "Featurize a crystal with periodic boundary conditions."
   ]
  },
  {
   "cell_type": "code",
   "execution_count": null,
   "metadata": {},
   "outputs": [],
   "source": [
    "# AuCu crystal structure\n",
    "positions_pbc = np.array([\n",
    "    [0.0, 0.0, 0.0],  # Cu\n",
    "    [0.0, 2.0, 2.0],  # Cu\n",
    "    [2.0, 0.0, 2.0],  # Au\n",
    "    [2.0, 2.0, 0.0]   # Au\n",
    "])\n",
    "species_pbc = ['Cu', 'Cu', 'Au', 'Au']\n",
    "\n",
    "# Unit cell\n",
    "cell = np.array([\n",
    "    [4.0, 0.0, 0.0],\n",
    "    [0.0, 4.0, 0.0],\n",
    "    [0.0, 0.0, 4.0]\n",
    "])\n",
    "pbc = np.array([True, True, True])\n",
    "\n",
    "# Create descriptor for Au-Cu system\n",
    "descriptor_aucu = ChebyshevDescriptor(\n",
    "    species=['Au', 'Cu'],\n",
    "    rad_order=8,\n",
    "    rad_cutoff=3.5,\n",
    "    ang_order=5,\n",
    "    ang_cutoff=3.5\n",
    ")\n",
    "\n",
    "# Featurize with PBC\n",
    "features_pbc = descriptor_aucu.featurize_structure(\n",
    "    positions_pbc, species_pbc, cell=cell, pbc=pbc\n",
    ")\n",
    "\n",
    "print(f\"Crystal feature shape: {features_pbc.shape}\")\n",
    "print(f\"Cu atom 0 features (first 10): {features_pbc[0, :10]}\")\n",
    "print(f\"Au atom 2 features (first 10): {features_pbc[2, :10]}\")"
   ]
  },
  {
   "cell_type": "markdown",
   "metadata": {},
   "source": [
    "## 4. Batch Processing\n",
    "\n",
    "Efficiently featurize multiple structures."
   ]
  },
  {
   "cell_type": "code",
   "execution_count": null,
   "metadata": {},
   "outputs": [],
   "source": [
    "# Create batch featurizer\n",
    "batch_fzer = BatchedFeaturizer(descriptor)\n",
    "\n",
    "# Multiple water molecules with slight perturbations\n",
    "batch_positions = [\n",
    "    torch.tensor(positions, dtype=torch.float64),\n",
    "    torch.tensor(positions + 0.1 * np.random.randn(*positions.shape),\n",
    "                 dtype=torch.float64),\n",
    "    torch.tensor(positions + 0.1 * np.random.randn(*positions.shape),\n",
    "                 dtype=torch.float64),\n",
    "]\n",
    "batch_species = [species, species, species]\n",
    "\n",
    "# Featurize batch\n",
    "features_batch, batch_indices = batch_fzer(\n",
    "    batch_positions, batch_species\n",
    ")\n",
    "\n",
    "print(f\"Batch features shape: {features_batch.shape}\")\n",
    "print(f\"Batch indices shape: {batch_indices.shape}\")\n",
    "print(f\"Structure 0 atoms: {(batch_indices == 0).sum().item()}\")\n",
    "print(f\"Structure 1 atoms: {(batch_indices == 1).sum().item()}\")\n",
    "print(f\"Structure 2 atoms: {(batch_indices == 2).sum().item()}\")"
   ]
  },
  {
   "cell_type": "markdown",
   "metadata": {},
   "source": [
    "## 5. GPU Acceleration\n",
    "\n",
    "Use GPU for faster featurization (if available)."
   ]
  },
  {
   "cell_type": "code",
   "execution_count": null,
   "metadata": {},
   "outputs": [],
   "source": [
    "if torch.cuda.is_available():\n",
    "    print(\"CUDA available - creating GPU descriptor\")\n",
    "    \n",
    "    # Create descriptor on GPU\n",
    "    descriptor_gpu = ChebyshevDescriptor(\n",
    "        species=['O', 'H'],\n",
    "        rad_order=10,\n",
    "        rad_cutoff=4.0,\n",
    "        ang_order=3,\n",
    "        ang_cutoff=1.5,\n",
    "        device='cuda'\n",
    "    )\n",
    "    \n",
    "    # Featurize on GPU (input automatically moved)\n",
    "    features_gpu = descriptor_gpu.featurize_structure(positions, species)\n",
    "    \n",
    "    print(f\"GPU features shape: {features_gpu.shape}\")\n",
    "    print(f\"Features computed on GPU\")\n",
    "else:\n",
    "    print(\"CUDA not available - using CPU\")"
   ]
  },
  {
   "cell_type": "markdown",
   "metadata": {},
   "source": [
    "## 6. Gradient Computation\n",
    "\n",
    "Compute feature gradients for force calculations."
   ]
  },
  {
   "cell_type": "code",
   "execution_count": null,
   "metadata": {},
   "outputs": [],
   "source": [
    "# Enable gradient tracking\n",
    "positions_torch = torch.tensor(\n",
    "    positions, dtype=torch.float64, requires_grad=True\n",
    ")\n",
    "\n",
    "# Compute features with gradients\n",
    "features_torch = descriptor(positions_torch, species)\n",
    "\n",
    "# Compute gradient via backpropagation\n",
    "loss = features_torch.sum()\n",
    "loss.backward()\n",
    "\n",
    "print(\"Position gradients:\")\n",
    "print(f\"Shape: {positions_torch.grad.shape}\")\n",
    "print(f\"Oxygen gradient: {positions_torch.grad[0]}\")"
   ]
  },
  {
   "cell_type": "markdown",
   "metadata": {},
   "source": [
    "## 7. Force Computation from Energy Model\n",
    "\n",
    "Compute atomic forces from an energy model."
   ]
  },
  {
   "cell_type": "code",
   "execution_count": null,
   "metadata": {},
   "outputs": [],
   "source": [
    "import torch.nn as nn\n",
    "\n",
    "# Simple energy model\n",
    "class EnergyModel(nn.Module):\n",
    "    def __init__(self, n_features):\n",
    "        super().__init__()\n",
    "        self.net = nn.Sequential(\n",
    "            nn.Linear(n_features, 64),\n",
    "            nn.Tanh(),\n",
    "            nn.Linear(64, 32),\n",
    "            nn.Tanh(),\n",
    "            nn.Linear(32, 1)\n",
    "        )\n",
    "    \n",
    "    def forward(self, features):\n",
    "        return self.net(features)\n",
    "\n",
    "# Create and initialize model\n",
    "model = EnergyModel(descriptor.get_n_features())\n",
    "\n",
    "# Compute forces: F = -∂E/∂r\n",
    "positions_for_forces = torch.tensor(positions, dtype=torch.float64)\n",
    "energy, forces = descriptor.compute_forces_from_energy(\n",
    "    positions_for_forces, species, model\n",
    ")\n",
    "\n",
    "print(f\"Total energy: {energy.item():.6f}\")\n",
    "print(f\"\\nForces on each atom:\")\n",
    "for i, (sp, force) in enumerate(zip(species, forces)):\n",
    "    print(f\"  {sp} {i}: [{force[0]:.6f}, {force[1]:.6f}, {force[2]:.6f}]\")"
   ]
  },
  {
   "cell_type": "markdown",
   "metadata": {},
   "source": [
    "## 8. Integration with Training Pipeline\n",
    "\n",
    "Example of using features for ML potential training."
   ]
  },
  {
   "cell_type": "code",
   "execution_count": null,
   "metadata": {},
   "outputs": [],
   "source": [
    "# Simulate training data\n",
    "n_structures = 10\n",
    "train_positions = []\n",
    "train_species = []\n",
    "train_energies = []\n",
    "\n",
    "for i in range(n_structures):\n",
    "    # Add random perturbations to water molecule\n",
    "    perturbed = positions + 0.2 * np.random.randn(*positions.shape)\n",
    "    train_positions.append(\n",
    "        torch.tensor(perturbed, dtype=torch.float64)\n",
    "    )\n",
    "    train_species.append(species)\n",
    "    train_energies.append(torch.randn(1))\n",
    "\n",
    "# Featurize training set\n",
    "print(\"Featurizing training structures...\")\n",
    "train_features = []\n",
    "for pos, spec in zip(train_positions, train_species):\n",
    "    feats = descriptor.featurize_structure(\n",
    "        pos.numpy(), spec\n",
    "    )\n",
    "    train_features.append(feats)\n",
    "\n",
    "print(f\"Generated features for {len(train_features)} structures\")\n",
    "print(f\"Feature shape per structure: {train_features[0].shape}\")\n",
    "\n",
    "# Features are now ready for training\n",
    "# model.fit(train_features, train_energies)"
   ]
  },
  {
   "cell_type": "markdown",
   "metadata": {},
   "source": [
    "## Summary\n",
    "\n",
    "This notebook demonstrated:\n",
    "- Basic featurization of isolated molecules\n",
    "- Periodic system featurization\n",
    "- Batch processing of multiple structures\n",
    "- GPU acceleration\n",
    "- Gradient computation\n",
    "- Force calculation from energy models\n",
    "- Integration with training pipelines\n",
    "\n",
    "The PyTorch implementation provides:\n",
    "- **No Fortran dependency** - pure Python/PyTorch\n",
    "- **GPU acceleration** - automatic device handling\n",
    "- **Automatic differentiation** - for gradient-based methods\n",
    "- **Validated accuracy** - matches Fortran to machine precision"
   ]
  }
 ],
 "metadata": {
  "kernelspec": {
   "display_name": "Python 3",
   "language": "python",
   "name": "python3"
  },
  "language_info": {
   "codemirror_mode": {
    "name": "ipython",
    "version": 3
   },
   "file_extension": ".py",
   "mimetype": "text/x-python",
   "name": "python",
   "nbconvert_exporter": "python",
   "pygments_lexer": "ipython3",
   "version": "3.8.0"
  }
 },
 "nbformat": 4,
 "nbformat_minor": 4
}
